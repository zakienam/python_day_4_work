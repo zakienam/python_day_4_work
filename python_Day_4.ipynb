{
 "cells": [
  {
   "cell_type": "code",
   "execution_count": null,
   "id": "29d0bea9-2f3b-4cb6-bef4-ad142581aca1",
   "metadata": {},
   "outputs": [],
   "source": [
    "Introduction to list datatype :"
   ]
  },
  {
   "cell_type": "code",
   "execution_count": null,
   "id": "660aae3d-d882-4465-9dc7-18747dba46c7",
   "metadata": {},
   "outputs": [],
   "source": [
    "Defination : A list is a collection of items declared in a particular order .\n",
    "    \n",
    "classification : it is classified as a mutual datatype\n",
    "\n",
    "how to define / declare the list datatype ....[]"
   ]
  },
  {
   "cell_type": "code",
   "execution_count": 2,
   "id": "0b132f52-4b34-4251-b9a8-d959afdf123b",
   "metadata": {},
   "outputs": [],
   "source": [
    "students = ['rohan','malaika','sohan','vikash','sonali','afsha']  # 0,1,2,3,4,5"
   ]
  },
  {
   "cell_type": "code",
   "execution_count": 3,
   "id": "08335695-b4e5-4d44-846d-a8da5d3f5d78",
   "metadata": {},
   "outputs": [
    {
     "name": "stdout",
     "output_type": "stream",
     "text": [
      "['rohan', 'malaika', 'sohan', 'vikash', 'sonali', 'afsha']\n"
     ]
    }
   ],
   "source": [
    "print(students)"
   ]
  },
  {
   "cell_type": "code",
   "execution_count": 4,
   "id": "c4001a17-7678-4dff-8844-0ce6f736d63c",
   "metadata": {},
   "outputs": [
    {
     "data": {
      "text/plain": [
       "list"
      ]
     },
     "execution_count": 4,
     "metadata": {},
     "output_type": "execute_result"
    }
   ],
   "source": [
    "type(students)"
   ]
  },
  {
   "cell_type": "code",
   "execution_count": null,
   "id": "1db7f3ae-006f-42aa-bc60-905e00c7e5e0",
   "metadata": {},
   "outputs": [],
   "source": [
    "introduction to indexing : indexing will be starting from the value 0 onwards."
   ]
  },
  {
   "cell_type": "code",
   "execution_count": 5,
   "id": "c88fe8df-9ea1-47db-8006-efad56756e6b",
   "metadata": {},
   "outputs": [],
   "source": [
    "# req : i want to get malaika name in the output ......?"
   ]
  },
  {
   "cell_type": "code",
   "execution_count": 6,
   "id": "07f5880d-1a87-4eaa-abb0-7dfbe8ceb732",
   "metadata": {},
   "outputs": [
    {
     "name": "stdout",
     "output_type": "stream",
     "text": [
      "malaika\n"
     ]
    }
   ],
   "source": [
    "print(students[1])"
   ]
  },
  {
   "cell_type": "code",
   "execution_count": 8,
   "id": "de72f07a-37e6-4d55-9f32-a23a2468b896",
   "metadata": {},
   "outputs": [
    {
     "name": "stdout",
     "output_type": "stream",
     "text": [
      "Malaika\n"
     ]
    }
   ],
   "source": [
    "print(students[1].title())"
   ]
  },
  {
   "cell_type": "code",
   "execution_count": 10,
   "id": "4809f2bd-79c1-40a7-ae45-253edabac91d",
   "metadata": {},
   "outputs": [],
   "source": [
    "# req : i want to get vikash name in the output ......?"
   ]
  },
  {
   "cell_type": "code",
   "execution_count": 11,
   "id": "7ca76a48-3255-4f02-8571-3c362a9d8d29",
   "metadata": {},
   "outputs": [
    {
     "name": "stdout",
     "output_type": "stream",
     "text": [
      "Vikash\n"
     ]
    }
   ],
   "source": [
    "print(students[3].title())"
   ]
  },
  {
   "cell_type": "code",
   "execution_count": null,
   "id": "818ea34e-da91-4355-a07c-71a99818a000",
   "metadata": {},
   "outputs": [],
   "source": [
    "1. how to add new elements to the list\n",
    "2. how to modify the elements in the list\n",
    "3. how to delete the elements in the list"
   ]
  },
  {
   "cell_type": "code",
   "execution_count": 12,
   "id": "239fb713-020f-49ff-993a-fccbbab83dc0",
   "metadata": {},
   "outputs": [],
   "source": [
    "# 1. req : i want to add joseph to the above list ....?"
   ]
  },
  {
   "cell_type": "code",
   "execution_count": 13,
   "id": "31ec6660-1bb6-4596-946c-e7d9584cdeb9",
   "metadata": {},
   "outputs": [],
   "source": [
    "students.append('joseph')"
   ]
  },
  {
   "cell_type": "code",
   "execution_count": 14,
   "id": "c2903ec4-948c-4891-b48e-5d87fb01de41",
   "metadata": {},
   "outputs": [
    {
     "name": "stdout",
     "output_type": "stream",
     "text": [
      "['rohan', 'malaika', 'sohan', 'vikash', 'sonali', 'afsha', 'joseph']\n"
     ]
    }
   ],
   "source": [
    "print(students)"
   ]
  },
  {
   "cell_type": "code",
   "execution_count": 16,
   "id": "1548ac26-abb3-4b98-9a2d-495f27bd706c",
   "metadata": {},
   "outputs": [],
   "source": [
    "# req : i want to add santosh to the above list ....?"
   ]
  },
  {
   "cell_type": "code",
   "execution_count": 18,
   "id": "d5c84d21-a9c5-40f8-afee-bef68d40409f",
   "metadata": {},
   "outputs": [],
   "source": [
    "students.append('santosh')"
   ]
  },
  {
   "cell_type": "code",
   "execution_count": 19,
   "id": "c15fbf2d-2d1d-4d06-9e9e-af27c27bf696",
   "metadata": {},
   "outputs": [
    {
     "name": "stdout",
     "output_type": "stream",
     "text": [
      "['rohan', 'malaika', 'sohan', 'vikash', 'sonali', 'afsha', 'joseph', 'santosh', 'santosh']\n"
     ]
    }
   ],
   "source": [
    "print(students)"
   ]
  },
  {
   "cell_type": "code",
   "execution_count": 24,
   "id": "95a3f193-4820-4fdd-bf33-9c0cd36f77c3",
   "metadata": {},
   "outputs": [],
   "source": [
    "# req : i want to add aafreen to the above list ....in the 2nd index position "
   ]
  },
  {
   "cell_type": "raw",
   "id": "4c15de66-9cce-45ac-8ef3-00a0b6f9c83c",
   "metadata": {},
   "source": []
  },
  {
   "cell_type": "code",
   "execution_count": 26,
   "id": "0bf382c4-3e59-4129-89a2-78419b4d122d",
   "metadata": {},
   "outputs": [],
   "source": [
    "students.insert(2,'aafreen')"
   ]
  },
  {
   "cell_type": "code",
   "execution_count": 27,
   "id": "f6d94d94-be36-4ebc-b2b2-05c8839b6189",
   "metadata": {},
   "outputs": [
    {
     "name": "stdout",
     "output_type": "stream",
     "text": [
      "['rohan', 'malaika', 'aafreen', 'sohan', 'vikash', 'sonali', 'afsha', 'joseph', 'santosh', 'santosh']\n"
     ]
    }
   ],
   "source": [
    "print(students)"
   ]
  },
  {
   "cell_type": "code",
   "execution_count": 29,
   "id": "2312b117-a840-4440-9ac3-23edfd472411",
   "metadata": {},
   "outputs": [
    {
     "name": "stdout",
     "output_type": "stream",
     "text": [
      "aafreen\n"
     ]
    }
   ],
   "source": [
    "print(students[2])"
   ]
  },
  {
   "cell_type": "code",
   "execution_count": null,
   "id": "b2fdab68-af89-4ae9-accb-2ee1da5fc3d1",
   "metadata": {},
   "outputs": [],
   "source": [
    "interview_question : what is the diff btw append and insert method in a list, can you please explain ?\n",
    "\n",
    "Ans---  In append method we add the elements in the list and the list is added at the last But in insert method\n",
    "        we add the elements in the place of our choise of interest.......\n"
   ]
  },
  {
   "cell_type": "code",
   "execution_count": 30,
   "id": "738b06d6-dfe0-4ccd-9611-800cabb468f8",
   "metadata": {},
   "outputs": [],
   "source": [
    "# 2. req : i want to modify rohan to sonam"
   ]
  },
  {
   "cell_type": "code",
   "execution_count": 34,
   "id": "61d52b87-06e7-4960-9a23-0188d569bfbf",
   "metadata": {},
   "outputs": [],
   "source": [
    "students[0] = 'sonam'"
   ]
  },
  {
   "cell_type": "code",
   "execution_count": 35,
   "id": "cabb158b-01d4-486c-a569-8f9322566f86",
   "metadata": {},
   "outputs": [
    {
     "name": "stdout",
     "output_type": "stream",
     "text": [
      "['sonam', 'malaika', 'aafreen', 'sohan', 'sonam', 'sonali', 'afsha', 'joseph', 'santosh', 'santosh']\n"
     ]
    }
   ],
   "source": [
    "print(students)"
   ]
  },
  {
   "cell_type": "code",
   "execution_count": 36,
   "id": "c8b9c3c1-3ad0-406c-972c-8c1c4f5c3b08",
   "metadata": {},
   "outputs": [],
   "source": [
    "students[4] = 'reena'"
   ]
  },
  {
   "cell_type": "code",
   "execution_count": 37,
   "id": "92c4377e-2b1b-499b-bbf3-3fef42ff5f45",
   "metadata": {},
   "outputs": [
    {
     "name": "stdout",
     "output_type": "stream",
     "text": [
      "['sonam', 'malaika', 'aafreen', 'sohan', 'reena', 'sonali', 'afsha', 'joseph', 'santosh', 'santosh']\n"
     ]
    }
   ],
   "source": [
    "print(students)"
   ]
  },
  {
   "cell_type": "code",
   "execution_count": 38,
   "id": "a2546e89-4eb0-4f4d-9219-6268c0aa8f53",
   "metadata": {},
   "outputs": [],
   "source": [
    "# 3. req : i want to delete sohan form the above list .......?"
   ]
  },
  {
   "cell_type": "code",
   "execution_count": 39,
   "id": "f810335b-2f05-4857-aa01-531088a24c4d",
   "metadata": {},
   "outputs": [],
   "source": [
    "del students[3]"
   ]
  },
  {
   "cell_type": "code",
   "execution_count": 40,
   "id": "a78c9ee0-dd6d-4172-9095-b302c56cacd0",
   "metadata": {},
   "outputs": [
    {
     "name": "stdout",
     "output_type": "stream",
     "text": [
      "['sonam', 'malaika', 'aafreen', 'reena', 'sonali', 'afsha', 'joseph', 'santosh', 'santosh']\n"
     ]
    }
   ],
   "source": [
    "print(students)"
   ]
  },
  {
   "cell_type": "code",
   "execution_count": null,
   "id": "e740b02c-cdfb-4095-a4ec-1ea9ad498355",
   "metadata": {},
   "outputs": [],
   "source": []
  },
  {
   "cell_type": "code",
   "execution_count": null,
   "id": "fd027824-f5b5-4850-ba72-eed255185912",
   "metadata": {},
   "outputs": [],
   "source": [
    "# temp deleting the elements using pop method :\n",
    "\n",
    "pop will be by default deleting the last element in the list."
   ]
  },
  {
   "cell_type": "code",
   "execution_count": 42,
   "id": "fc866b47-9280-46b8-bc9b-0f72ee3a1f45",
   "metadata": {},
   "outputs": [
    {
     "name": "stdout",
     "output_type": "stream",
     "text": [
      "['sonam', 'malaika', 'aafreen', 'reena', 'sonali', 'afsha', 'joseph', 'santosh', 'santosh']\n"
     ]
    }
   ],
   "source": [
    "print(students)"
   ]
  },
  {
   "cell_type": "code",
   "execution_count": 43,
   "id": "e0cd2d7d-2066-4eab-b029-868d9ca98ea5",
   "metadata": {},
   "outputs": [],
   "source": [
    "x = students.pop()"
   ]
  },
  {
   "cell_type": "code",
   "execution_count": 44,
   "id": "d6ba6dc9-eb79-48d6-8489-d5d91e6ec6c5",
   "metadata": {},
   "outputs": [
    {
     "name": "stdout",
     "output_type": "stream",
     "text": [
      "['sonam', 'malaika', 'aafreen', 'reena', 'sonali', 'afsha', 'joseph', 'santosh']\n"
     ]
    }
   ],
   "source": [
    "print(students)"
   ]
  },
  {
   "cell_type": "code",
   "execution_count": 45,
   "id": "b94b8a97-bd8c-4f9a-a9f4-b49b7ea7b629",
   "metadata": {},
   "outputs": [],
   "source": [
    "x = students.pop()"
   ]
  },
  {
   "cell_type": "code",
   "execution_count": 46,
   "id": "d511a9c0-c5cb-494a-a39b-c2d770e94fd9",
   "metadata": {},
   "outputs": [
    {
     "name": "stdout",
     "output_type": "stream",
     "text": [
      "['sonam', 'malaika', 'aafreen', 'reena', 'sonali', 'afsha', 'joseph']\n"
     ]
    }
   ],
   "source": [
    "print(students)"
   ]
  },
  {
   "cell_type": "code",
   "execution_count": 47,
   "id": "e96ea94a-6a52-4d1c-a240-19573ea9ac52",
   "metadata": {},
   "outputs": [
    {
     "name": "stdout",
     "output_type": "stream",
     "text": [
      "santosh\n"
     ]
    }
   ],
   "source": [
    "print(x)"
   ]
  },
  {
   "cell_type": "code",
   "execution_count": 48,
   "id": "4056413f-c1b2-4ce5-9999-1085ea129e46",
   "metadata": {},
   "outputs": [],
   "source": [
    "x = students.pop()"
   ]
  },
  {
   "cell_type": "code",
   "execution_count": 49,
   "id": "f758f5cf-9104-414b-9132-db236ff74677",
   "metadata": {},
   "outputs": [
    {
     "name": "stdout",
     "output_type": "stream",
     "text": [
      "['sonam', 'malaika', 'aafreen', 'reena', 'sonali', 'afsha']\n"
     ]
    }
   ],
   "source": [
    "print(students)"
   ]
  },
  {
   "cell_type": "code",
   "execution_count": 50,
   "id": "47bd58d8-3363-43d4-95a2-32a7fa3c44d7",
   "metadata": {},
   "outputs": [
    {
     "name": "stdout",
     "output_type": "stream",
     "text": [
      "joseph\n"
     ]
    }
   ],
   "source": [
    "print(x)"
   ]
  },
  {
   "cell_type": "code",
   "execution_count": null,
   "id": "88dad97e-f799-4a45-ad65-60377e434fce",
   "metadata": {},
   "outputs": [],
   "source": [
    "interview_question : what is the diff btw delete and pop methods in a list ?\n",
    "\n",
    "Ans ----- In delete method we can the elemments by our choise but in pop method it is by\n",
    "          default deleted the last elements in the lists........."
   ]
  }
 ],
 "metadata": {
  "kernelspec": {
   "display_name": "Python 3 (ipykernel)",
   "language": "python",
   "name": "python3"
  },
  "language_info": {
   "codemirror_mode": {
    "name": "ipython",
    "version": 3
   },
   "file_extension": ".py",
   "mimetype": "text/x-python",
   "name": "python",
   "nbconvert_exporter": "python",
   "pygments_lexer": "ipython3",
   "version": "3.11.7"
  }
 },
 "nbformat": 4,
 "nbformat_minor": 5
}
